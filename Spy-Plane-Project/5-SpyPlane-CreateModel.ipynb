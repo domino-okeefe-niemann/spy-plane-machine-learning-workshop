{
 "cells": [
  {
   "cell_type": "markdown",
   "metadata": {},
   "source": [
    "# Create and Use model\n",
    "\n",
    "This notebook pulls in the model from the SpyPlane-OptimizingModel.ipynb notebook and uses that model to train the remaining data\n",
    "\n",
    "This projects is based off the Buzzfeed news article on identifying spy planes found [here](https://www.buzzfeednews.com/article/peteraldhous/hidden-spy-planes), using the data and code adapted from their github repository [here](https://github.com/BuzzFeedNews/2017-08-spy-plane-finder)."
   ]
  },
  {
   "cell_type": "code",
   "execution_count": null,
   "metadata": {},
   "outputs": [],
   "source": [
    "%matplotlib inline\n",
    "#import packages\n",
    "import pandas as pd\n",
    "import matplotlib.pyplot as plt\n",
    "import numpy as np\n",
    "\n",
    "#sci-kit learn is a library with machine learning algorithms\n",
    "from sklearn.ensemble import RandomForestClassifier\n",
    "\n",
    "#package for saving our ML model\n",
    "import pickle"
   ]
  },
  {
   "cell_type": "code",
   "execution_count": null,
   "metadata": {},
   "outputs": [],
   "source": [
    "#read in data\n",
    "planes_labeled = pd.read_csv(\"/mnt/data/planes_labeled.csv\")"
   ]
  },
  {
   "cell_type": "code",
   "execution_count": null,
   "metadata": {},
   "outputs": [],
   "source": [
    "#format data by removing non-numeric columnns and factorize the class\n",
    "X = planes_labeled[['steer1', 'steer2', 'steer4', 'steer5', 'steer6', 'squawk_1', 'altitude3']]\n",
    "y = pd.factorize(planes_labeled['class'])[0]"
   ]
  },
  {
   "cell_type": "code",
   "execution_count": null,
   "metadata": {},
   "outputs": [],
   "source": [
    "# Create a based model\n",
    "np.random.seed(415)\n",
    "model_tuned = RandomForestClassifier(n_estimators=1100, max_depth=50, max_features='sqrt', \n",
    "                               min_samples_split=4, bootstrap=False)\n",
    "\n",
    "#train model with only features above\n",
    "model_tuned.fit(X, y)"
   ]
  },
  {
   "cell_type": "markdown",
   "metadata": {},
   "source": [
    "### Save the model to disk\n",
    "This is often referred to as **serializing** the model. Notice that after this step, we will not reference the variable `model_tuned` for the rest of the notebook! Instead, a later cell will show how to load the model from this file. This mimics the way a model will often have prediction code running separately from the training code."
   ]
  },
  {
   "cell_type": "code",
   "execution_count": null,
   "metadata": {},
   "outputs": [],
   "source": [
    "# save the model to disk\n",
    "serialized_model_file_path = '/mnt/data/SpyPlane-RandomForest.sav'\n",
    "pickle.dump(model_tuned, open(serialized_model_file_path, 'wb'))"
   ]
  },
  {
   "cell_type": "markdown",
   "metadata": {},
   "source": [
    "### Classify all data\n",
    "\n",
    "#### Gather and format data\n",
    "First we'll remove all of the training data and the known federal planes from the entire data set (which is in the planes_features file."
   ]
  },
  {
   "cell_type": "code",
   "execution_count": null,
   "metadata": {},
   "outputs": [],
   "source": [
    "#read in all data\n",
    "feds = pd.read_csv(\"/mnt/data/feds.csv\")\n",
    "train = pd.read_csv(\"/mnt/data/train.csv\")\n",
    "planes = pd.read_csv('/mnt/data/planes_features.csv')"
   ]
  },
  {
   "cell_type": "code",
   "execution_count": null,
   "metadata": {},
   "outputs": [],
   "source": [
    "#first gather list of federal plane identifiers to remove\n",
    "fed_ids = list(feds['adshex'])\n",
    "len(fed_ids)"
   ]
  },
  {
   "cell_type": "code",
   "execution_count": null,
   "metadata": {},
   "outputs": [],
   "source": [
    "#next gather list of training list identifiers to remove \n",
    "remove = fed_ids + list(train['adshex'])\n",
    "len(remove)"
   ]
  },
  {
   "cell_type": "code",
   "execution_count": null,
   "metadata": {},
   "outputs": [],
   "source": [
    "classify = planes[~planes['adshex'].isin(remove)] "
   ]
  },
  {
   "cell_type": "code",
   "execution_count": null,
   "metadata": {},
   "outputs": [],
   "source": [
    "#look at number of rows and columns in the raw data \n",
    "classify.shape"
   ]
  },
  {
   "cell_type": "code",
   "execution_count": null,
   "metadata": {},
   "outputs": [],
   "source": [
    "X_all = classify[['steer1', 'steer2', 'steer4', 'steer5', 'steer6', 'squawk_1', 'altitude3']]"
   ]
  },
  {
   "cell_type": "code",
   "execution_count": null,
   "metadata": {},
   "outputs": [],
   "source": [
    "X_all.head()"
   ]
  },
  {
   "cell_type": "markdown",
   "metadata": {},
   "source": [
    "#### Read model from disk\n",
    "The is often referred to as **deserializing** the model, and requires the location of the file where we saved the model to disk earlier."
   ]
  },
  {
   "cell_type": "code",
   "execution_count": null,
   "metadata": {},
   "outputs": [],
   "source": [
    "model_deserialized = pickle.load(open(serialized_model_file_path, 'rb'))"
   ]
  },
  {
   "cell_type": "markdown",
   "metadata": {},
   "source": [
    "#### Make Predictions\n",
    "\n",
    "Then we'll use our deserialized model to output those planes that were determined to be potential surveillance plans and join this data with the [FAA aircraft registration database](https://www.faa.gov/licenses_certificates/aircraft_certification/aircraft_registry/releasable_aircraft_download/), which gives the planes’ registration numbers and the organizations they are registered to.|"
   ]
  },
  {
   "cell_type": "code",
   "execution_count": null,
   "metadata": {},
   "outputs": [],
   "source": [
    "real_predictions = model_deserialized.predict(X_all)"
   ]
  },
  {
   "cell_type": "code",
   "execution_count": null,
   "metadata": {},
   "outputs": [],
   "source": [
    "#look at number of predicted spy planes\n",
    "sum(real_predictions)"
   ]
  },
  {
   "cell_type": "code",
   "execution_count": null,
   "metadata": {},
   "outputs": [],
   "source": [
    "#create data frame with only those potential spy planes\n",
    "candidates = classify[real_predictions == 1]"
   ]
  },
  {
   "cell_type": "code",
   "execution_count": null,
   "metadata": {},
   "outputs": [],
   "source": [
    "candidates.head()"
   ]
  },
  {
   "cell_type": "code",
   "execution_count": null,
   "metadata": {},
   "outputs": [],
   "source": [
    "#read in FAA data\n",
    "faa = pd.read_csv(\"/mnt/data/faa-registration.csv\")\n",
    "faa.head()"
   ]
  },
  {
   "cell_type": "code",
   "execution_count": null,
   "metadata": {},
   "outputs": [],
   "source": [
    "#look at the column names in the FAA registration dataframe\n",
    "faa.columns"
   ]
  },
  {
   "cell_type": "code",
   "execution_count": null,
   "metadata": {},
   "outputs": [],
   "source": [
    "#seperate out the columns we want to use\n",
    "plane_info = faa[['N-NUMBER', 'NAME', 'MODE S CODE HEX']].copy()\n",
    "plane_info.rename(columns = {'N-NUMBER':'n_number', 'NAME':'name', 'MODE S CODE HEX':'adshex'}, inplace = True) "
   ]
  },
  {
   "cell_type": "code",
   "execution_count": null,
   "metadata": {},
   "outputs": [],
   "source": [
    "spy_candidates = candidates.merge(plane_info, on = 'adshex', how = 'left')"
   ]
  },
  {
   "cell_type": "markdown",
   "metadata": {},
   "source": [
    "#### Look at predicted probabilities\n",
    "\n",
    "Here, we'll calculate the probabilities and sort them in descending order."
   ]
  },
  {
   "cell_type": "code",
   "execution_count": null,
   "metadata": {},
   "outputs": [],
   "source": [
    "#get list of the probabilities\n",
    "probability_pred = model_deserialized.predict_proba(X_all)"
   ]
  },
  {
   "cell_type": "code",
   "execution_count": null,
   "metadata": {},
   "outputs": [],
   "source": [
    "#add the surveillance plane classifications to the data frame and sort\n",
    "classify_prob = classify.copy()\n",
    "classify_prob.loc[:,'spy_prob'] = probability_pred[:,1]\n",
    "classify_prob.sort_values(by = 'spy_prob', ascending=False, inplace=True)"
   ]
  },
  {
   "cell_type": "code",
   "execution_count": null,
   "metadata": {},
   "outputs": [],
   "source": [
    "classify_prob.head()"
   ]
  },
  {
   "cell_type": "code",
   "execution_count": null,
   "metadata": {},
   "outputs": [],
   "source": [
    "#merge with FAA names and registration numbers\n",
    "classify_prob_faa= classify_prob.merge(plane_info, on = 'adshex', how = 'left')"
   ]
  },
  {
   "cell_type": "code",
   "execution_count": null,
   "metadata": {},
   "outputs": [],
   "source": [
    "#seperate out only those rows with probabilites greater than 0.5 and the relevant columns\n",
    "relevant_cols = ['adshex', 'type', 'spy_prob', 'n_number', 'name', 'squawk_1', 'steer1', 'steer2', 'steer4', 'steer5', 'steer6', 'altitude3']\n",
    "candidates_with_prob = classify_prob_faa.loc[classify_prob_faa['spy_prob'] > 0.5, relevant_cols]"
   ]
  },
  {
   "cell_type": "code",
   "execution_count": null,
   "metadata": {},
   "outputs": [],
   "source": [
    "#look at the top 15 results\n",
    "candidates_with_prob.head(15)"
   ]
  },
  {
   "cell_type": "code",
   "execution_count": null,
   "metadata": {},
   "outputs": [],
   "source": [
    "#save the spy candidates data frame to a csv file\n",
    "candidates_with_prob.to_csv(\"/mnt/data/spy_candidates.csv\", index = False)"
   ]
  },
  {
   "cell_type": "code",
   "execution_count": null,
   "metadata": {},
   "outputs": [],
   "source": [
    "#save the confirmed federal surveillance planes with their relevant data to file\n",
    "feds_data = planes_labeled[planes_labeled['adshex'].isin(fed_ids)]\n",
    "feds_data = feds_data[['adshex', 'steer1', 'steer2', 'steer4', 'steer5', 'steer6', 'squawk_1', 'altitude3']]\n",
    "feds_data.to_csv('/mnt/data/feds_data.csv')"
   ]
  },
  {
   "cell_type": "code",
   "execution_count": null,
   "metadata": {},
   "outputs": [],
   "source": []
  }
 ],
 "metadata": {
  "kernelspec": {
   "display_name": "Python 3",
   "language": "python",
   "name": "python3"
  },
  "language_info": {
   "codemirror_mode": {
    "name": "ipython",
    "version": 3
   },
   "file_extension": ".py",
   "mimetype": "text/x-python",
   "name": "python",
   "nbconvert_exporter": "python",
   "pygments_lexer": "ipython3",
   "version": "3.6.7"
  }
 },
 "nbformat": 4,
 "nbformat_minor": 2
}

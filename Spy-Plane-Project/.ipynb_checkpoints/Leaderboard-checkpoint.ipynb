{
 "cells": [
  {
   "cell_type": "code",
   "execution_count": null,
   "metadata": {},
   "outputs": [],
   "source": [
    "import pandas as pd\n",
    "\n",
    "import os\n",
    "import boto3\n",
    "from botocore import UNSIGNED\n",
    "from botocore.client import Config\n",
    "\n",
    "client = boto3.client('s3', aws_access_key_id='', aws_secret_access_key='')\n",
    "client._request_signer.sign = (lambda *args, **kwargs: None)\n",
    "\n",
    "def download_dir(prefix, local, bucket, client=client):\n",
    "    \"\"\"\n",
    "    params:\n",
    "    - prefix: pattern to match in s3\n",
    "    - local: local path to folder in which to place files\n",
    "    - bucket: s3 bucket with target contents\n",
    "    - client: initialized s3 client object\n",
    "    \"\"\"\n",
    "    keys = []\n",
    "    dirs = []\n",
    "    next_token = ''\n",
    "    base_kwargs = {\n",
    "        'Bucket':bucket,\n",
    "        'Prefix':prefix,\n",
    "    }\n",
    "    while next_token is not None:\n",
    "        kwargs = base_kwargs.copy()\n",
    "        if next_token != '':\n",
    "            kwargs.update({'ContinuationToken': next_token})\n",
    "        results = client.list_objects_v2(**kwargs)\n",
    "        contents = results.get('Contents')\n",
    "        for i in contents:\n",
    "            k = i.get('Key')\n",
    "            if k[-1] != '/':\n",
    "                keys.append(k)\n",
    "            else:\n",
    "                dirs.append(k)\n",
    "        next_token = results.get('NextContinuationToken')\n",
    "    for d in dirs:\n",
    "        dest_pathname = os.path.join(local, d)\n",
    "        if not os.path.exists(os.path.dirname(dest_pathname)):\n",
    "            os.makedirs(os.path.dirname(dest_pathname))\n",
    "    for k in keys:\n",
    "        dest_pathname = os.path.join(local, k)\n",
    "        if not os.path.exists(os.path.dirname(dest_pathname)):\n",
    "            os.makedirs(os.path.dirname(dest_pathname))\n",
    "        client.download_file(bucket, k, dest_pathname)"
   ]
  },
  {
   "cell_type": "code",
   "execution_count": null,
   "metadata": {},
   "outputs": [],
   "source": [
    "bucket = \"workshop-leaderboard\"\n",
    "s3_prefix = \"lm-workshop/\"\n",
    "local_dir = \"/tmp/leaderboard/\"\n",
    "\n",
    "#download all files in S3\n",
    "download_dir(s3_prefix, local_dir, bucket)\n",
    "\n",
    "#build list of files\n",
    "files = []\n",
    "for (dirpath, dirnames, filenames) in os.walk(local_dir + s3_prefix):\n",
    "    files.extend(filenames)\n",
    "\n",
    "#concatenate all files into one big dataframe\n",
    "for ind, file in enumerate(files):\n",
    "    if ind == 0:\n",
    "        leaderboard = pd.read_csv(local_dir + s3_prefix + file)\n",
    "    else:\n",
    "        leaderboard = leaderboard.append(pd.read_csv(local_dir + s3_prefix + file))\n",
    "\n",
    "#sort and show leaderboard\n",
    "leaderboard.sort_values(by=['f1'], ascending=False).reset_index(drop=True).head(5)"
   ]
  },
  {
   "cell_type": "code",
   "execution_count": null,
   "metadata": {},
   "outputs": [],
   "source": []
  }
 ],
 "metadata": {
  "kernelspec": {
   "display_name": "Python 3",
   "language": "python",
   "name": "python3"
  },
  "language_info": {
   "codemirror_mode": {
    "name": "ipython",
    "version": 3
   },
   "file_extension": ".py",
   "mimetype": "text/x-python",
   "name": "python",
   "nbconvert_exporter": "python",
   "pygments_lexer": "ipython3",
   "version": "3.6.7"
  }
 },
 "nbformat": 4,
 "nbformat_minor": 4
}

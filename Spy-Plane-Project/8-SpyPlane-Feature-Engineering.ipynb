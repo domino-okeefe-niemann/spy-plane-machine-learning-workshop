{
 "cells": [
  {
   "cell_type": "markdown",
   "metadata": {},
   "source": [
    "# Feature Engineering\n",
    "\n",
    "This notebook takes new data from [ADS-B Exchange] (https://www.adsbexchange.com/) on April 1, 2018 and engineers it similarly to the Buzzfeed preparation. "
   ]
  },
  {
   "cell_type": "code",
   "execution_count": null,
   "metadata": {},
   "outputs": [],
   "source": [
    "#import packages that we'll need\n",
    "import pandas as pd\n",
    "import numpy as np  \n",
    "import scipy\n",
    "import matplotlib.pyplot as plt\n",
    "import pickle"
   ]
  },
  {
   "cell_type": "code",
   "execution_count": null,
   "metadata": {},
   "outputs": [],
   "source": [
    "#read in data\n",
    "flights1 = pd.read_csv(\"/mnt/data/flights1.csv\", low_memory = False)\n",
    "flights2 = pd.read_csv(\"/mnt/data/flights2.csv\", low_memory = False)\n",
    "flights3 = pd.read_csv(\"/mnt/data/flights3.csv\", low_memory = False)"
   ]
  },
  {
   "cell_type": "code",
   "execution_count": null,
   "metadata": {},
   "outputs": [],
   "source": [
    "#combine all federal plane data\n",
    "flight_data = pd.concat([flights1, flights2, flights3])"
   ]
  },
  {
   "cell_type": "code",
   "execution_count": null,
   "metadata": {},
   "outputs": [],
   "source": [
    "#look at overview of the data\n",
    "flight_data.head()"
   ]
  },
  {
   "cell_type": "code",
   "execution_count": null,
   "metadata": {},
   "outputs": [],
   "source": [
    "#sort by aircraft ID and time\n",
    "flight_data.sort_values(['adshex', 'PosTime'], inplace = True)"
   ]
  },
  {
   "cell_type": "code",
   "execution_count": null,
   "metadata": {},
   "outputs": [],
   "source": [
    "#Create a column, 'steer' which is the change in compass bearing from the previous transponder detection \n",
    "#for that aircraft; negative values indicate a turn to the left, positive values a turn to the right. \n",
    "flight_data['steer'] = flight_data['track'] - flight_data['track'].shift(-1)\n",
    "flight_data.head()"
   ]
  },
  {
   "cell_type": "code",
   "execution_count": null,
   "metadata": {},
   "outputs": [],
   "source": [
    "#Create steer bins, which are the proportion of steer values for each aircraft falling into bins set manually, \n",
    "#using the breaks: -180, -25, -10, -1, 0, 1, 22, 45, 180\n",
    "steer = flight_data['steer'].groupby([flight_data['adshex'], pd.cut(flight_data['steer'], \n",
    "                             bins = [-180, -25, -10, -1, 0, 1, 22, 45, 180])]).size().unstack(fill_value=0)\n",
    "\n",
    "steer = steer.div(steer.sum(axis=1), axis=0)"
   ]
  },
  {
   "cell_type": "code",
   "execution_count": null,
   "metadata": {},
   "outputs": [],
   "source": [
    "#clean up data frame\n",
    "steer.columns = ['steer1', 'steer2', 'steer3', 'steer4', 'steer5', 'steer6', 'steer7', 'steer8']\n",
    "steer.reset_index(inplace = True)\n",
    "steer.head()"
   ]
  },
  {
   "cell_type": "code",
   "execution_count": null,
   "metadata": {},
   "outputs": [],
   "source": [
    "#proportion the altitude into 5 bins based on the distribution\n",
    "q, alt_bins = pd.qcut(flight_data['altitude'], q = 5, retbins=True)\n",
    "alt_bins = list(alt_bins)\n",
    "alt_bins"
   ]
  },
  {
   "cell_type": "code",
   "execution_count": null,
   "metadata": {},
   "outputs": [],
   "source": [
    "#proportion the altitude into 5 bins based on the distribution\n",
    "altitude = flight_data['altitude'].groupby([flight_data['adshex'], pd.cut(flight_data['altitude'], \n",
    "                                                                          bins = alt_bins)]).size().unstack(fill_value=0)\n",
    "\n",
    "altitude = altitude.div(altitude.sum(axis=1), axis=0)"
   ]
  },
  {
   "cell_type": "code",
   "execution_count": null,
   "metadata": {},
   "outputs": [],
   "source": [
    "#clean up data frame\n",
    "altitude.columns = ['altitude1', 'altitude2', 'altitude3', 'altitude4', 'altitude5']\n",
    "altitude.reset_index(inplace = True)\n",
    "altitude.head()"
   ]
  },
  {
   "cell_type": "code",
   "execution_count": null,
   "metadata": {},
   "outputs": [],
   "source": [
    "#get most common squawk code for each plane\n",
    "sep_df = flight_data[['adshex', 'squawk']]\n",
    "\n",
    "def get_mode(x): \n",
    "    m = pd.Series.mode(x); \n",
    "    return m.values[0] if not m.empty else np.nan\n",
    "squawk = sep_df.groupby('adshex')['squawk'].agg(get_mode)"
   ]
  },
  {
   "cell_type": "code",
   "execution_count": null,
   "metadata": {},
   "outputs": [],
   "source": [
    "#move series into data frame and clean up\n",
    "squawk.columns = ['squawk']\n",
    "squawk = pd.Series.to_frame(squawk)\n",
    "squawk.reset_index(inplace = True)\n",
    "squawk.head()"
   ]
  },
  {
   "cell_type": "code",
   "execution_count": null,
   "metadata": {},
   "outputs": [],
   "source": [
    "#merge data frames into one\n",
    "new_flight_data = altitude.merge(steer, on = 'adshex')\n",
    "new_flight_data = new_flight_data.merge(squawk, on = 'adshex')"
   ]
  },
  {
   "cell_type": "code",
   "execution_count": null,
   "metadata": {},
   "outputs": [],
   "source": [
    "#format data to be the same as the training data\n",
    "new_flight_data.rename(columns = {'squawk':'squawk_1'}, inplace = True)\n",
    "new_flight_data.dropna(inplace = True)\n",
    "new_flight_data['squawk_1'] = new_flight_data['squawk_1'].astype(int)\n",
    "new_flight_data.head()"
   ]
  },
  {
   "cell_type": "code",
   "execution_count": null,
   "metadata": {},
   "outputs": [],
   "source": [
    "#format data to be the same as the training data\n",
    "classify_new = new_flight_data[['steer1', 'steer2', 'steer4', 'steer5', 'steer6', 'squawk_1', 'altitude3']]"
   ]
  },
  {
   "cell_type": "code",
   "execution_count": null,
   "metadata": {},
   "outputs": [],
   "source": [
    "#import model\n",
    "model_loc = '/mnt/data/SpyPlane-RandomForest.sav'\n",
    "model = pickle.load(open(model_loc, 'rb'))"
   ]
  },
  {
   "cell_type": "code",
   "execution_count": null,
   "metadata": {},
   "outputs": [],
   "source": [
    "#classify data\n",
    "predictions = model.predict(classify_new)"
   ]
  },
  {
   "cell_type": "code",
   "execution_count": null,
   "metadata": {},
   "outputs": [],
   "source": [
    "#look at number of predicted spy planes\n",
    "sum(predictions)"
   ]
  },
  {
   "cell_type": "code",
   "execution_count": null,
   "metadata": {},
   "outputs": [],
   "source": [
    "#get list of the probabilities\n",
    "probability_pred = model.predict_proba(classify_new)"
   ]
  },
  {
   "cell_type": "code",
   "execution_count": null,
   "metadata": {},
   "outputs": [],
   "source": [
    "#add the surveillance plane classifications to the data frame and sort\n",
    "classify_prob = new_flight_data.copy()\n",
    "classify_prob.loc[:,'spy_prob'] = probability_pred[:,1]\n",
    "classify_prob.sort_values(by = 'spy_prob', ascending=False, inplace=True)"
   ]
  },
  {
   "cell_type": "code",
   "execution_count": null,
   "metadata": {},
   "outputs": [],
   "source": [
    "classify_prob.head()"
   ]
  },
  {
   "cell_type": "code",
   "execution_count": null,
   "metadata": {},
   "outputs": [],
   "source": [
    "#save the spy candidates data frame to a csv file\n",
    "classify_prob.to_csv(\"/mnt/data/new_flight_spy_candidates.csv\", index = False)"
   ]
  }
 ],
 "metadata": {
  "kernelspec": {
   "display_name": "Python 3",
   "language": "python",
   "name": "python3"
  },
  "language_info": {
   "codemirror_mode": {
    "name": "ipython",
    "version": 3
   },
   "file_extension": ".py",
   "mimetype": "text/x-python",
   "name": "python",
   "nbconvert_exporter": "python",
   "pygments_lexer": "ipython3",
   "version": "3.6.7"
  }
 },
 "nbformat": 4,
 "nbformat_minor": 2
}

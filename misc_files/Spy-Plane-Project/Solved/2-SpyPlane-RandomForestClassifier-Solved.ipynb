{
 "cells": [
  {
   "cell_type": "markdown",
   "metadata": {},
   "source": [
    "# Random Forest Model\n",
    "\n",
    "This notebook pulls in the cleaned data from the data_cleaning.ipynb notebook and uses that to create and evaluate\n",
    "a random forest model.\n",
    "\n",
    "This projects is based off the Buzzfeed news article on identifying spy planes found [here](https://www.buzzfeednews.com/article/peteraldhous/hidden-spy-planes), using the data and code adapted from their github repository [here](https://github.com/BuzzFeedNews/2017-08-spy-plane-finder)."
   ]
  },
  {
   "cell_type": "markdown",
   "metadata": {},
   "source": [
    "## Instructions\n",
    "\n",
    "Follow the directions in any cell that does not contain code. If a cell does contain code, run this before moving on to the next cell"
   ]
  },
  {
   "cell_type": "code",
   "execution_count": 1,
   "metadata": {},
   "outputs": [],
   "source": [
    "%matplotlib inline\n",
    "#import packages\n",
    "import pandas as pd\n",
    "import matplotlib.pyplot as plt\n",
    "import numpy as np\n",
    "\n",
    "#sci-kit learn is a library with machine learning algorithms\n",
    "from sklearn.ensemble import RandomForestClassifier\n",
    "from sklearn.model_selection import train_test_split\n",
    "from sklearn.metrics import confusion_matrix"
   ]
  },
  {
   "cell_type": "code",
   "execution_count": 2,
   "metadata": {},
   "outputs": [
    {
     "data": {
      "text/html": [
       "<div>\n",
       "<style scoped>\n",
       "    .dataframe tbody tr th:only-of-type {\n",
       "        vertical-align: middle;\n",
       "    }\n",
       "\n",
       "    .dataframe tbody tr th {\n",
       "        vertical-align: top;\n",
       "    }\n",
       "\n",
       "    .dataframe thead th {\n",
       "        text-align: right;\n",
       "    }\n",
       "</style>\n",
       "<table border=\"1\" class=\"dataframe\">\n",
       "  <thead>\n",
       "    <tr style=\"text-align: right;\">\n",
       "      <th></th>\n",
       "      <th>adshex</th>\n",
       "      <th>duration1</th>\n",
       "      <th>duration2</th>\n",
       "      <th>duration3</th>\n",
       "      <th>duration4</th>\n",
       "      <th>duration5</th>\n",
       "      <th>boxes1</th>\n",
       "      <th>boxes2</th>\n",
       "      <th>boxes3</th>\n",
       "      <th>boxes4</th>\n",
       "      <th>...</th>\n",
       "      <th>steer5</th>\n",
       "      <th>steer6</th>\n",
       "      <th>steer7</th>\n",
       "      <th>steer8</th>\n",
       "      <th>flights</th>\n",
       "      <th>squawk_1</th>\n",
       "      <th>observations</th>\n",
       "      <th>type</th>\n",
       "      <th>class</th>\n",
       "      <th>type_factorized</th>\n",
       "    </tr>\n",
       "  </thead>\n",
       "  <tbody>\n",
       "    <tr>\n",
       "      <th>0</th>\n",
       "      <td>A00002</td>\n",
       "      <td>0.517241</td>\n",
       "      <td>0.103448</td>\n",
       "      <td>0.103448</td>\n",
       "      <td>0.103448</td>\n",
       "      <td>0.172414</td>\n",
       "      <td>0.862069</td>\n",
       "      <td>0.137931</td>\n",
       "      <td>0.000000</td>\n",
       "      <td>0.000000</td>\n",
       "      <td>...</td>\n",
       "      <td>0.034070</td>\n",
       "      <td>0.202578</td>\n",
       "      <td>0.021179</td>\n",
       "      <td>0.068140</td>\n",
       "      <td>29</td>\n",
       "      <td>0</td>\n",
       "      <td>1086</td>\n",
       "      <td>SHIP</td>\n",
       "      <td>other</td>\n",
       "      <td>0</td>\n",
       "    </tr>\n",
       "    <tr>\n",
       "      <th>1</th>\n",
       "      <td>A00220</td>\n",
       "      <td>0.000000</td>\n",
       "      <td>0.254902</td>\n",
       "      <td>0.176471</td>\n",
       "      <td>0.313725</td>\n",
       "      <td>0.254902</td>\n",
       "      <td>0.058824</td>\n",
       "      <td>0.372549</td>\n",
       "      <td>0.294118</td>\n",
       "      <td>0.215686</td>\n",
       "      <td>...</td>\n",
       "      <td>0.132030</td>\n",
       "      <td>0.120011</td>\n",
       "      <td>0.008611</td>\n",
       "      <td>0.006906</td>\n",
       "      <td>51</td>\n",
       "      <td>0</td>\n",
       "      <td>11149</td>\n",
       "      <td>RV10</td>\n",
       "      <td>other</td>\n",
       "      <td>1</td>\n",
       "    </tr>\n",
       "    <tr>\n",
       "      <th>2</th>\n",
       "      <td>A0041E</td>\n",
       "      <td>0.142857</td>\n",
       "      <td>0.285714</td>\n",
       "      <td>0.000000</td>\n",
       "      <td>0.571429</td>\n",
       "      <td>0.000000</td>\n",
       "      <td>0.285714</td>\n",
       "      <td>0.142857</td>\n",
       "      <td>0.285714</td>\n",
       "      <td>0.285714</td>\n",
       "      <td>...</td>\n",
       "      <td>0.090498</td>\n",
       "      <td>0.078431</td>\n",
       "      <td>0.010558</td>\n",
       "      <td>0.019608</td>\n",
       "      <td>7</td>\n",
       "      <td>0</td>\n",
       "      <td>663</td>\n",
       "      <td>SR22</td>\n",
       "      <td>other</td>\n",
       "      <td>2</td>\n",
       "    </tr>\n",
       "    <tr>\n",
       "      <th>3</th>\n",
       "      <td>A00889</td>\n",
       "      <td>0.000000</td>\n",
       "      <td>0.120000</td>\n",
       "      <td>0.200000</td>\n",
       "      <td>0.080000</td>\n",
       "      <td>0.600000</td>\n",
       "      <td>0.000000</td>\n",
       "      <td>0.200000</td>\n",
       "      <td>0.120000</td>\n",
       "      <td>0.280000</td>\n",
       "      <td>...</td>\n",
       "      <td>0.065339</td>\n",
       "      <td>0.023907</td>\n",
       "      <td>0.001276</td>\n",
       "      <td>0.001702</td>\n",
       "      <td>25</td>\n",
       "      <td>7760</td>\n",
       "      <td>11754</td>\n",
       "      <td>SR22</td>\n",
       "      <td>other</td>\n",
       "      <td>2</td>\n",
       "    </tr>\n",
       "    <tr>\n",
       "      <th>4</th>\n",
       "      <td>A008BE</td>\n",
       "      <td>0.000000</td>\n",
       "      <td>0.300000</td>\n",
       "      <td>0.200000</td>\n",
       "      <td>0.200000</td>\n",
       "      <td>0.300000</td>\n",
       "      <td>0.000000</td>\n",
       "      <td>0.300000</td>\n",
       "      <td>0.200000</td>\n",
       "      <td>0.300000</td>\n",
       "      <td>...</td>\n",
       "      <td>0.092958</td>\n",
       "      <td>0.145070</td>\n",
       "      <td>0.001408</td>\n",
       "      <td>0.009859</td>\n",
       "      <td>10</td>\n",
       "      <td>1200</td>\n",
       "      <td>710</td>\n",
       "      <td>PA24</td>\n",
       "      <td>other</td>\n",
       "      <td>3</td>\n",
       "    </tr>\n",
       "  </tbody>\n",
       "</table>\n",
       "<p>5 rows × 35 columns</p>\n",
       "</div>"
      ],
      "text/plain": [
       "   adshex  duration1  duration2  duration3  duration4  duration5    boxes1  \\\n",
       "0  A00002   0.517241   0.103448   0.103448   0.103448   0.172414  0.862069   \n",
       "1  A00220   0.000000   0.254902   0.176471   0.313725   0.254902  0.058824   \n",
       "2  A0041E   0.142857   0.285714   0.000000   0.571429   0.000000  0.285714   \n",
       "3  A00889   0.000000   0.120000   0.200000   0.080000   0.600000  0.000000   \n",
       "4  A008BE   0.000000   0.300000   0.200000   0.200000   0.300000  0.000000   \n",
       "\n",
       "     boxes2    boxes3    boxes4  ...    steer5    steer6    steer7    steer8  \\\n",
       "0  0.137931  0.000000  0.000000  ...  0.034070  0.202578  0.021179  0.068140   \n",
       "1  0.372549  0.294118  0.215686  ...  0.132030  0.120011  0.008611  0.006906   \n",
       "2  0.142857  0.285714  0.285714  ...  0.090498  0.078431  0.010558  0.019608   \n",
       "3  0.200000  0.120000  0.280000  ...  0.065339  0.023907  0.001276  0.001702   \n",
       "4  0.300000  0.200000  0.300000  ...  0.092958  0.145070  0.001408  0.009859   \n",
       "\n",
       "   flights  squawk_1  observations  type  class  type_factorized  \n",
       "0       29         0          1086  SHIP  other                0  \n",
       "1       51         0         11149  RV10  other                1  \n",
       "2        7         0           663  SR22  other                2  \n",
       "3       25      7760         11754  SR22  other                2  \n",
       "4       10      1200           710  PA24  other                3  \n",
       "\n",
       "[5 rows x 35 columns]"
      ]
     },
     "execution_count": 2,
     "metadata": {},
     "output_type": "execute_result"
    }
   ],
   "source": [
    "# This relies on output from a previous notebook!\n",
    "# If this cell does not work, try using the pregenerated data instead\n",
    "#planes_labeled = pd.read_csv(\"/mnt/data/spyplane-data/pregenerated_planes_labeled.csv\")\n",
    "planes_labeled = pd.read_csv(\"/mnt/data/spyplane-data/planes_labeled.csv\")\n",
    "planes_labeled.head()"
   ]
  },
  {
   "cell_type": "markdown",
   "metadata": {},
   "source": [
    "### Background \n",
    "\n",
    "The random forest classifier works by constructing a multitude of decision trees at training time and outputting the class that is the mode of the classes or mean prediction of the individual trees. You can find the random forest classifier documentation for sci-kit learn [here](https://scikit-learn.org/stable/modules/generated/sklearn.ensemble.RandomForestClassifier.html)."
   ]
  },
  {
   "cell_type": "markdown",
   "metadata": {},
   "source": [
    "### Format data\n",
    "\n",
    "We'll first format our data for the model. "
   ]
  },
  {
   "cell_type": "code",
   "execution_count": 3,
   "metadata": {},
   "outputs": [
    {
     "data": {
      "text/plain": [
       "array([0, 0, 0, 0, 0])"
      ]
     },
     "execution_count": 3,
     "metadata": {},
     "output_type": "execute_result"
    }
   ],
   "source": [
    "#factorize the classes\n",
    "y = pd.factorize(planes_labeled['class'])[0]\n",
    "y[0:5]"
   ]
  },
  {
   "cell_type": "code",
   "execution_count": 4,
   "metadata": {},
   "outputs": [
    {
     "data": {
      "text/html": [
       "<div>\n",
       "<style scoped>\n",
       "    .dataframe tbody tr th:only-of-type {\n",
       "        vertical-align: middle;\n",
       "    }\n",
       "\n",
       "    .dataframe tbody tr th {\n",
       "        vertical-align: top;\n",
       "    }\n",
       "\n",
       "    .dataframe thead th {\n",
       "        text-align: right;\n",
       "    }\n",
       "</style>\n",
       "<table border=\"1\" class=\"dataframe\">\n",
       "  <thead>\n",
       "    <tr style=\"text-align: right;\">\n",
       "      <th></th>\n",
       "      <th>duration1</th>\n",
       "      <th>duration2</th>\n",
       "      <th>duration3</th>\n",
       "      <th>duration4</th>\n",
       "      <th>duration5</th>\n",
       "      <th>boxes1</th>\n",
       "      <th>boxes2</th>\n",
       "      <th>boxes3</th>\n",
       "      <th>boxes4</th>\n",
       "      <th>boxes5</th>\n",
       "      <th>...</th>\n",
       "      <th>steer3</th>\n",
       "      <th>steer4</th>\n",
       "      <th>steer5</th>\n",
       "      <th>steer6</th>\n",
       "      <th>steer7</th>\n",
       "      <th>steer8</th>\n",
       "      <th>flights</th>\n",
       "      <th>squawk_1</th>\n",
       "      <th>observations</th>\n",
       "      <th>type_factorized</th>\n",
       "    </tr>\n",
       "  </thead>\n",
       "  <tbody>\n",
       "    <tr>\n",
       "      <th>0</th>\n",
       "      <td>0.517241</td>\n",
       "      <td>0.103448</td>\n",
       "      <td>0.103448</td>\n",
       "      <td>0.103448</td>\n",
       "      <td>0.172414</td>\n",
       "      <td>0.862069</td>\n",
       "      <td>0.137931</td>\n",
       "      <td>0.000000</td>\n",
       "      <td>0.000000</td>\n",
       "      <td>0.000000</td>\n",
       "      <td>...</td>\n",
       "      <td>0.174954</td>\n",
       "      <td>0.244015</td>\n",
       "      <td>0.034070</td>\n",
       "      <td>0.202578</td>\n",
       "      <td>0.021179</td>\n",
       "      <td>0.068140</td>\n",
       "      <td>29</td>\n",
       "      <td>0</td>\n",
       "      <td>1086</td>\n",
       "      <td>0</td>\n",
       "    </tr>\n",
       "    <tr>\n",
       "      <th>1</th>\n",
       "      <td>0.000000</td>\n",
       "      <td>0.254902</td>\n",
       "      <td>0.176471</td>\n",
       "      <td>0.313725</td>\n",
       "      <td>0.254902</td>\n",
       "      <td>0.058824</td>\n",
       "      <td>0.372549</td>\n",
       "      <td>0.294118</td>\n",
       "      <td>0.215686</td>\n",
       "      <td>0.058824</td>\n",
       "      <td>...</td>\n",
       "      <td>0.263342</td>\n",
       "      <td>0.375998</td>\n",
       "      <td>0.132030</td>\n",
       "      <td>0.120011</td>\n",
       "      <td>0.008611</td>\n",
       "      <td>0.006906</td>\n",
       "      <td>51</td>\n",
       "      <td>0</td>\n",
       "      <td>11149</td>\n",
       "      <td>1</td>\n",
       "    </tr>\n",
       "    <tr>\n",
       "      <th>2</th>\n",
       "      <td>0.142857</td>\n",
       "      <td>0.285714</td>\n",
       "      <td>0.000000</td>\n",
       "      <td>0.571429</td>\n",
       "      <td>0.000000</td>\n",
       "      <td>0.285714</td>\n",
       "      <td>0.142857</td>\n",
       "      <td>0.285714</td>\n",
       "      <td>0.285714</td>\n",
       "      <td>0.000000</td>\n",
       "      <td>...</td>\n",
       "      <td>0.108597</td>\n",
       "      <td>0.657617</td>\n",
       "      <td>0.090498</td>\n",
       "      <td>0.078431</td>\n",
       "      <td>0.010558</td>\n",
       "      <td>0.019608</td>\n",
       "      <td>7</td>\n",
       "      <td>0</td>\n",
       "      <td>663</td>\n",
       "      <td>2</td>\n",
       "    </tr>\n",
       "    <tr>\n",
       "      <th>3</th>\n",
       "      <td>0.000000</td>\n",
       "      <td>0.120000</td>\n",
       "      <td>0.200000</td>\n",
       "      <td>0.080000</td>\n",
       "      <td>0.600000</td>\n",
       "      <td>0.000000</td>\n",
       "      <td>0.200000</td>\n",
       "      <td>0.120000</td>\n",
       "      <td>0.280000</td>\n",
       "      <td>0.400000</td>\n",
       "      <td>...</td>\n",
       "      <td>0.078782</td>\n",
       "      <td>0.814361</td>\n",
       "      <td>0.065339</td>\n",
       "      <td>0.023907</td>\n",
       "      <td>0.001276</td>\n",
       "      <td>0.001702</td>\n",
       "      <td>25</td>\n",
       "      <td>7760</td>\n",
       "      <td>11754</td>\n",
       "      <td>2</td>\n",
       "    </tr>\n",
       "    <tr>\n",
       "      <th>4</th>\n",
       "      <td>0.000000</td>\n",
       "      <td>0.300000</td>\n",
       "      <td>0.200000</td>\n",
       "      <td>0.200000</td>\n",
       "      <td>0.300000</td>\n",
       "      <td>0.000000</td>\n",
       "      <td>0.300000</td>\n",
       "      <td>0.200000</td>\n",
       "      <td>0.300000</td>\n",
       "      <td>0.200000</td>\n",
       "      <td>...</td>\n",
       "      <td>0.250704</td>\n",
       "      <td>0.436620</td>\n",
       "      <td>0.092958</td>\n",
       "      <td>0.145070</td>\n",
       "      <td>0.001408</td>\n",
       "      <td>0.009859</td>\n",
       "      <td>10</td>\n",
       "      <td>1200</td>\n",
       "      <td>710</td>\n",
       "      <td>3</td>\n",
       "    </tr>\n",
       "  </tbody>\n",
       "</table>\n",
       "<p>5 rows × 32 columns</p>\n",
       "</div>"
      ],
      "text/plain": [
       "   duration1  duration2  duration3  duration4  duration5    boxes1    boxes2  \\\n",
       "0   0.517241   0.103448   0.103448   0.103448   0.172414  0.862069  0.137931   \n",
       "1   0.000000   0.254902   0.176471   0.313725   0.254902  0.058824  0.372549   \n",
       "2   0.142857   0.285714   0.000000   0.571429   0.000000  0.285714  0.142857   \n",
       "3   0.000000   0.120000   0.200000   0.080000   0.600000  0.000000  0.200000   \n",
       "4   0.000000   0.300000   0.200000   0.200000   0.300000  0.000000  0.300000   \n",
       "\n",
       "     boxes3    boxes4    boxes5  ...    steer3    steer4    steer5    steer6  \\\n",
       "0  0.000000  0.000000  0.000000  ...  0.174954  0.244015  0.034070  0.202578   \n",
       "1  0.294118  0.215686  0.058824  ...  0.263342  0.375998  0.132030  0.120011   \n",
       "2  0.285714  0.285714  0.000000  ...  0.108597  0.657617  0.090498  0.078431   \n",
       "3  0.120000  0.280000  0.400000  ...  0.078782  0.814361  0.065339  0.023907   \n",
       "4  0.200000  0.300000  0.200000  ...  0.250704  0.436620  0.092958  0.145070   \n",
       "\n",
       "     steer7    steer8  flights  squawk_1  observations  type_factorized  \n",
       "0  0.021179  0.068140       29         0          1086                0  \n",
       "1  0.008611  0.006906       51         0         11149                1  \n",
       "2  0.010558  0.019608        7         0           663                2  \n",
       "3  0.001276  0.001702       25      7760         11754                2  \n",
       "4  0.001408  0.009859       10      1200           710                3  \n",
       "\n",
       "[5 rows x 32 columns]"
      ]
     },
     "execution_count": 4,
     "metadata": {},
     "output_type": "execute_result"
    }
   ],
   "source": [
    "#create X and drop columns that won't be used for training\n",
    "X = planes_labeled.drop(['adshex','class', 'type'], axis = 1)\n",
    "X.head()"
   ]
  },
  {
   "cell_type": "markdown",
   "metadata": {},
   "source": [
    "### Train and test data sets\n",
    "\n",
    "We want to be sure to set aside some data to test this model so that we can determine it's accuracy. Here, we'll use sci-kit learn to split our data into these groups. We'll set a test size of 30% and use the remaining 70% to train on. "
   ]
  },
  {
   "cell_type": "code",
   "execution_count": 5,
   "metadata": {},
   "outputs": [],
   "source": [
    "#split into test and train sets\n",
    "X_train, X_test, y_train, y_test = train_test_split(X, y, test_size=0.3, random_state=42)"
   ]
  },
  {
   "cell_type": "code",
   "execution_count": 6,
   "metadata": {},
   "outputs": [
    {
     "name": "stdout",
     "output_type": "stream",
     "text": [
      "(408, 32) (176, 32)\n"
     ]
    }
   ],
   "source": [
    "print(X_train.shape, X_test.shape)"
   ]
  },
  {
   "cell_type": "markdown",
   "metadata": {},
   "source": [
    "### Train model\n",
    "\n",
    "Now we'll train our model and make predictions. We'll seed the random number generator so that we get the same values."
   ]
  },
  {
   "cell_type": "code",
   "execution_count": 7,
   "metadata": {},
   "outputs": [
    {
     "data": {
      "text/plain": [
       "RandomForestClassifier(bootstrap=True, ccp_alpha=0.0, class_weight=None,\n",
       "                       criterion='gini', max_depth=None, max_features='auto',\n",
       "                       max_leaf_nodes=None, max_samples=None,\n",
       "                       min_impurity_decrease=0.0, min_impurity_split=None,\n",
       "                       min_samples_leaf=1, min_samples_split=2,\n",
       "                       min_weight_fraction_leaf=0.0, n_estimators=100,\n",
       "                       n_jobs=None, oob_score=False, random_state=None,\n",
       "                       verbose=0, warm_start=False)"
      ]
     },
     "execution_count": 7,
     "metadata": {},
     "output_type": "execute_result"
    }
   ],
   "source": [
    "#set a seed so that the results are reproducible\n",
    "np.random.seed(415)\n",
    "\n",
    "spy_model = RandomForestClassifier()\n",
    "spy_model.fit(X_train,y_train)"
   ]
  },
  {
   "cell_type": "code",
   "execution_count": 8,
   "metadata": {},
   "outputs": [
    {
     "data": {
      "text/plain": [
       "array([0, 0, 0, 0, 0, 0, 0, 1, 1, 0])"
      ]
     },
     "execution_count": 8,
     "metadata": {},
     "output_type": "execute_result"
    }
   ],
   "source": [
    "#predict the classes\n",
    "predictions = spy_model.predict(X_test)\n",
    "predictions[0:10]"
   ]
  },
  {
   "cell_type": "code",
   "execution_count": 9,
   "metadata": {},
   "outputs": [
    {
     "data": {
      "text/html": [
       "<div>\n",
       "<style scoped>\n",
       "    .dataframe tbody tr th:only-of-type {\n",
       "        vertical-align: middle;\n",
       "    }\n",
       "\n",
       "    .dataframe tbody tr th {\n",
       "        vertical-align: top;\n",
       "    }\n",
       "\n",
       "    .dataframe thead th {\n",
       "        text-align: right;\n",
       "    }\n",
       "</style>\n",
       "<table border=\"1\" class=\"dataframe\">\n",
       "  <thead>\n",
       "    <tr style=\"text-align: right;\">\n",
       "      <th></th>\n",
       "      <th>predicted:other</th>\n",
       "      <th>predicted:surveillence</th>\n",
       "    </tr>\n",
       "  </thead>\n",
       "  <tbody>\n",
       "    <tr>\n",
       "      <th>true:other</th>\n",
       "      <td>144</td>\n",
       "      <td>2</td>\n",
       "    </tr>\n",
       "    <tr>\n",
       "      <th>true:surveillence</th>\n",
       "      <td>10</td>\n",
       "      <td>20</td>\n",
       "    </tr>\n",
       "  </tbody>\n",
       "</table>\n",
       "</div>"
      ],
      "text/plain": [
       "                   predicted:other  predicted:surveillence\n",
       "true:other                     144                       2\n",
       "true:surveillence               10                      20"
      ]
     },
     "execution_count": 9,
     "metadata": {},
     "output_type": "execute_result"
    }
   ],
   "source": [
    "#visualize the number of classified surveillence and other planes in the test set\n",
    "\n",
    "cmtx = pd.DataFrame(\n",
    "    confusion_matrix(y_test, predictions), \n",
    "    index=['true:other', 'true:surveillence'], \n",
    "    columns=['predicted:other', 'predicted:surveillence']\n",
    ")\n",
    "\n",
    "cmtx"
   ]
  },
  {
   "cell_type": "code",
   "execution_count": 10,
   "metadata": {},
   "outputs": [
    {
     "data": {
      "text/plain": [
       "0.9318181818181818"
      ]
     },
     "execution_count": 10,
     "metadata": {},
     "output_type": "execute_result"
    }
   ],
   "source": [
    "#look at the overall accuracy from the numbers in the table above\n",
    "calculated_accuracy = (144+20)/(144+20+2+10)\n",
    "calculated_accuracy"
   ]
  },
  {
   "cell_type": "code",
   "execution_count": 11,
   "metadata": {},
   "outputs": [
    {
     "data": {
      "text/plain": [
       "0.9318181818181818"
      ]
     },
     "execution_count": 11,
     "metadata": {},
     "output_type": "execute_result"
    }
   ],
   "source": [
    "#use sci-kit learn's built in scoring feature\n",
    "spy_model.score(X_test, y_test)"
   ]
  },
  {
   "cell_type": "code",
   "execution_count": 12,
   "metadata": {},
   "outputs": [
    {
     "data": {
      "text/plain": [
       "array([[0.93, 0.07],\n",
       "       [0.87, 0.13],\n",
       "       [1.  , 0.  ],\n",
       "       [0.99, 0.01],\n",
       "       [1.  , 0.  ],\n",
       "       [1.  , 0.  ],\n",
       "       [0.95, 0.05],\n",
       "       [0.39, 0.61],\n",
       "       [0.18, 0.82],\n",
       "       [0.99, 0.01]])"
      ]
     },
     "execution_count": 12,
     "metadata": {},
     "output_type": "execute_result"
    }
   ],
   "source": [
    "predict_prob = spy_model.predict_proba(X_test)\n",
    "predict_prob[0:10]"
   ]
  },
  {
   "cell_type": "code",
   "execution_count": null,
   "metadata": {},
   "outputs": [],
   "source": []
  }
 ],
 "metadata": {
  "kernelspec": {
   "display_name": "Python 3",
   "language": "python",
   "name": "python3"
  },
  "language_info": {
   "codemirror_mode": {
    "name": "ipython",
    "version": 3
   },
   "file_extension": ".py",
   "mimetype": "text/x-python",
   "name": "python",
   "nbconvert_exporter": "python",
   "pygments_lexer": "ipython3",
   "version": "3.7.4"
  }
 },
 "nbformat": 4,
 "nbformat_minor": 2
}

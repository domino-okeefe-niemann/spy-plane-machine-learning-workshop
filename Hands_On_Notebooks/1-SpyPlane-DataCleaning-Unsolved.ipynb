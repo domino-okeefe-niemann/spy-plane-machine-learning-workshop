{
 "cells": [
  {
   "cell_type": "markdown",
   "metadata": {},
   "source": [
    "# Data cleaning and exploration\n",
    "\n",
    "DataFrames are two-dimensional labeled data structures with columns of potentially different types. The [Pandas](https://pandas.pydata.org/index.html) library is used in Python to create and work with these data structures.\n",
    "\n",
    "[Here](https://pandas.pydata.org/Pandas_Cheat_Sheet.pdf) is a helpful pdf cheatsheet of many of the pandas commands needed for data wrangling.\n",
    "\n",
    "\n",
    "*Note*: that there is almost always more than one way to accomplish a task in python and many duplicate methods in pandas. Please feel free to explore different methods on your own.\n",
    "\n",
    "The below cells import the pandas library and use this to move our data into a dataframe which can be viewed, manipulated, and combined with other data."
   ]
  },
  {
   "cell_type": "markdown",
   "metadata": {},
   "source": [
    "## Instructions\n",
    "\n",
    "Follow the directions in any cell that does not contain code. If a cell does contain code, run this before moving on to the next cell"
   ]
  },
  {
   "cell_type": "code",
   "execution_count": null,
   "metadata": {},
   "outputs": [],
   "source": [
    "#this imports the pandas library, which is already installed in our software environment\n",
    "import pandas as pd\n",
    "\n",
    "#matplotlib is a library used for easy plotting\n",
    "import matplotlib.pyplot as plt\n",
    "\n",
    "#seaborn is another library used to make nice looking plots in Python\n",
    "import seaborn as sns"
   ]
  },
  {
   "cell_type": "code",
   "execution_count": null,
   "metadata": {},
   "outputs": [],
   "source": [
    "#read in a csv file\n",
    "df_planes = pd.read_csv(\"../data/spyplane-data/planes_features.csv\")"
   ]
  },
  {
   "cell_type": "code",
   "execution_count": null,
   "metadata": {},
   "outputs": [],
   "source": [
    "#use a pandas command to look at the first few lines of data (defaults to 5, change by adding n=<number of rows>)\n",
    "df_planes.head(5)"
   ]
  },
  {
   "cell_type": "markdown",
   "metadata": {},
   "source": [
    "## Exploring Data\n",
    "\n",
    "This section explores the plane features dataset and describes what each of the columns represents. "
   ]
  },
  {
   "cell_type": "code",
   "execution_count": null,
   "metadata": {},
   "outputs": [],
   "source": [
    "#print list of plane feature column names"
   ]
  },
  {
   "cell_type": "markdown",
   "metadata": {},
   "source": [
    "#### Background\n",
    "This data comes from a news [article](https://www.buzzfeednews.com/article/peteraldhous/hidden-spy-planes) that used machine learning to identify potential spy aircraft over the continental United States. The data is available in this [Github repository](https://github.com/BuzzFeedNews/2017-08-spy-plane-finder) and the code in this notebook is based on details found [here](https://buzzfeednews.github.io/2017-08-spy-plane-finder/).\n",
    "\n",
    "#### Data \n",
    "BuzzFeed News obtained more than four months of aircraft transponder detections from the plane tracking website Flightradar24, covering August 17 to December 31, 2015 UTC, containing all data displayed on the site within a bounding box encompassing the continental United States, Alaska, Hawaii, and Puerto Rico.\n",
    "\n",
    "Flightradar24 receives data from its network of ground-based receivers, supplemented by a feed from ground radars provided by the Federal Aviation Administration (FAA) with a five-minute delay.\n",
    "\n",
    "To create this dataset, Buzzfeed filtered the data to remove planes registered abroad, based on their adshex code, common commercial airliners, based on their type, and aircraft with fewer than 500 transponder detections.\n",
    "\n",
    "They then took a random sample of 500 aircraft and calculated the following for each one:\n",
    " \n",
    "- `duration` of each flight segment recorded by Flightradar24, in minutes.\n",
    "- `boxes` Area of a rectangular bounding box drawn around each flight segment, in square kilometers.\n",
    "\n",
    "The following describes each of the columns in the dataset for the remaining 19,799 aircraft:\n",
    "\n",
    "- `adshex` Unique identifier for each aircraft, corresponding to its “Mode-S” code, in hexademical format.\n",
    "- `duration1`,`duration2`,`duration3`,`duration4`,`duration5` Proportion of flight segment durations for each plane falling into each of five quantiles calculated from duration for the sample of 500 planes. The proportions for each aircraft must add up to 1; if the durations of flight segments for a plane closely matched those for a typical plane from the sample, these numbers would all approximate to 0.2; a plane that mostly flew very long flights would have large decimal fraction for duration5.\n",
    "- `boxes1`,`boxes2`,`boxes3`,`boxes4`,`boxes5` Proportion of bounding box areas for each plane falling into each of five quantiles calculated from boxes for the sample of 500 planes.\n",
    "- `speed1`,`speed2`,`speed3`,`speed4`,`speed5` Proportion of speed values recorded for the aircraft falling into each of five quantiles recorded for speed for the sample of 500 planes.\n",
    "- `altitude1`,`altitude2`,`altitude3`,`altitude4`,`altitude5` Proportion of altitude values recorded for the aircraft falling into each of five quantiles recorded for altitude for the sample of 500 planes.\n",
    "- `steer1`,`steer2`,`steer3`,`steer4`,`steer5`,`steer6`,`steer7`,`steer8` Steer was calculated as the change in compass bearing from the previous transponder detection for that aircraft; negative values indicate a turn to the left, positive values a turn to the right. These values represent the proportion of steer values for each aircraft falling into bins set manually, after observing the distribution for the sample of 500 planes, using the breaks: -180, -25, -10, -1, 0, 1, 22, 45, 180.\n",
    "- `flights` Total number of flight segments for each plane.\n",
    "- `squawk_1` Squawk code used most commonly by the aircraft.\n",
    "- `observations` Total number of transponder detections for each plane.\n",
    "- `type` Aircraft manufacter and model, if identified, else unknown."
   ]
  },
  {
   "cell_type": "markdown",
   "metadata": {},
   "source": [
    "********************\n",
    "# Begin Exercise\n",
    "\n",
    "********************"
   ]
  },
  {
   "cell_type": "code",
   "execution_count": null,
   "metadata": {},
   "outputs": [],
   "source": [
    "#look at descriptive statistics \n"
   ]
  },
  {
   "cell_type": "markdown",
   "metadata": {},
   "source": [
    "____\n",
    "Pandas can be used to index columns and determine counts or unique values in different columns or rows."
   ]
  },
  {
   "cell_type": "code",
   "execution_count": null,
   "metadata": {},
   "outputs": [],
   "source": [
    "#look at the number of rows and columns in the dataframe\n"
   ]
  },
  {
   "cell_type": "code",
   "execution_count": null,
   "metadata": {},
   "outputs": [],
   "source": [
    "#add code to look at how many unique types of aircraft there are\n",
    "num_plane_types = \n",
    "num_unknown_planes = \n",
    "\n",
    "#this will print out your calculations\n",
    "print('There are ' + str(num_plane_types) + ' types of planes in this dataset and ' + \n",
    "      str(num_unknown_planes) + ' unknown plane types')"
   ]
  },
  {
   "cell_type": "code",
   "execution_count": null,
   "metadata": {},
   "outputs": [],
   "source": [
    "#seperate out a list of features\n",
    "planes_short = df_planes[['duration1', 'boxes1', 'speed1', 'altitude1', 'steer1', 'flights', \n",
    "                                      'squawk_1','observations', 'type']]"
   ]
  },
  {
   "cell_type": "code",
   "execution_count": null,
   "metadata": {},
   "outputs": [],
   "source": [
    "#Examine how features correlate with each other\n",
    "pd.plotting.scatter_matrix(planes_short.sample(1500), figsize=(15,15), marker = 'o', hist_kwds = {'bins': 10}, s = 10, alpha = 0.8);\n",
    "#sns.pairplot(planes_short.sample(1500));"
   ]
  },
  {
   "cell_type": "code",
   "execution_count": null,
   "metadata": {},
   "outputs": [],
   "source": [
    "#plot a histogram of the flight segments (column name = 'flights')\n",
    "# hint: https://www.w3schools.com/python/matplotlib_histograms.asp"
   ]
  },
  {
   "cell_type": "markdown",
   "metadata": {},
   "source": [
    "# Part 2:"
   ]
  },
  {
   "cell_type": "markdown",
   "metadata": {},
   "source": [
    "## Outlier Detection\n",
    "\n",
    "Here we'll look at the `flights` column, which shows how many flight segments each plane had during it's trip. We'll calculate the z-score and remove data points where the `flights` z-score is greater than 3. \n",
    "\n",
    "We'll first examine the descriptive statistics, then use seaborn to look at a boxplot before using the scipy and numpy packages to calculate z-score. "
   ]
  },
  {
   "cell_type": "code",
   "execution_count": null,
   "metadata": {},
   "outputs": [],
   "source": [
    "#look at descriptive statistics for just the flight segments column"
   ]
  },
  {
   "cell_type": "code",
   "execution_count": null,
   "metadata": {},
   "outputs": [],
   "source": [
    "#use seaborn to create a boxplot of the 'flights column'\n",
    "#https://seaborn.pydata.org/generated/seaborn.boxplot.html"
   ]
  },
  {
   "cell_type": "code",
   "execution_count": null,
   "metadata": {},
   "outputs": [],
   "source": [
    "#print the number of flights that had more than 150 flight segments (of the 19799 planes in our dataset)"
   ]
  },
  {
   "cell_type": "code",
   "execution_count": null,
   "metadata": {},
   "outputs": [],
   "source": [
    "#plot a histogram of just the planes with flight segments less than 150"
   ]
  },
  {
   "cell_type": "markdown",
   "metadata": {
    "tags": []
   },
   "source": [
    "*****************\n",
    "# End of Exercise\n",
    "*****************"
   ]
  },
  {
   "cell_type": "code",
   "execution_count": null,
   "metadata": {},
   "outputs": [],
   "source": [
    "#calculate z-scores and determine how many of the flights had flight segments with a z-score greater than 3\n",
    "\n",
    "#packages to easily calculate z-score\n",
    "from scipy import stats\n",
    "import numpy as np\n",
    "\n",
    "#calculate z-score and print number of data points outside the designated threshold (here we used 3)\n",
    "z_scores = np.abs(stats.zscore(df_planes['flights']))\n",
    "threshold = 3\n",
    "outliers = np.where(z_scores > threshold)[0]\n",
    "print('There are ' + str(outliers.size) + ' flights which have flight segments with a z-score greater than 3')"
   ]
  },
  {
   "cell_type": "code",
   "execution_count": null,
   "metadata": {},
   "outputs": [],
   "source": [
    "#print the value for flight segments that was considered the cutoff for outliers\n",
    "outlier_flights = df_planes.loc[outliers,['flights']]\n",
    "outlier_cutoff = outlier_flights.min()[0]\n",
    "print('The minimum number of flight segments meeting the outlier threshold for this removal method is ' + \n",
    "      str(outlier_cutoff))"
   ]
  },
  {
   "cell_type": "code",
   "execution_count": null,
   "metadata": {},
   "outputs": [],
   "source": [
    "#remove the flight segments that are outside our z-score threshold\n",
    "planes_cleaned = df_planes.drop(outliers).reset_index(drop=True)"
   ]
  },
  {
   "cell_type": "code",
   "execution_count": null,
   "metadata": {},
   "outputs": [],
   "source": [
    "#compare the size of the dataframes\n",
    "print(\"Original dataframe size: \", df_planes.shape)\n",
    "print(\"New dataframe size: \", planes_cleaned.shape)"
   ]
  },
  {
   "cell_type": "code",
   "execution_count": null,
   "metadata": {},
   "outputs": [],
   "source": [
    "#plot a histogram of the 'flights' column in the new dataframe (planes_cleaned)\n",
    "planes_cleaned.plot(y = 'flights', kind = 'hist');"
   ]
  },
  {
   "cell_type": "markdown",
   "metadata": {},
   "source": [
    "# Part 2: Prepare our Data for Modelling\n",
    "\n",
    "We will now prepare our data to train our machine learning algorithm. \n",
    "\n",
    "As training data, drawn from planes_features.csv, Buzzfeed used 97 fixed-wing FBI and DHS planes from a previous story, given a class of `surveil`, and a random sample of 500 other planes, given a class of `other`. Note that some of these random sample fall under the outliers identified in the previous step and so the final count is less than 500.\n",
    "\n",
    "Data identifying these planes is in the file train.csv. We'll need to join this table with our plane features table so that we can seperate and label our training set. We also then need to convert our plane types into a numeric value that the classifier can use as input. "
   ]
  },
  {
   "cell_type": "code",
   "execution_count": null,
   "metadata": {},
   "outputs": [],
   "source": [
    "#read in the training data\n",
    "training_data_raw = pd.read_csv(\"../data/spyplane-data/train.csv\")\n",
    "training_data_raw.head()"
   ]
  },
  {
   "cell_type": "markdown",
   "metadata": {},
   "source": [
    "#### Data cleaning\n",
    "Here we can look at value counts to see how many observations fall into each of the classes for training set. This is helpful to check for data entry errors and check for imbalanced classes. "
   ]
  },
  {
   "cell_type": "code",
   "execution_count": null,
   "metadata": {},
   "outputs": [],
   "source": [
    "#look at data classes using the value_counts function\n",
    "training_data_raw['class'].value_counts()"
   ]
  },
  {
   "cell_type": "code",
   "execution_count": null,
   "metadata": {},
   "outputs": [],
   "source": [
    "#join the training data table onto the planes_cleaned table on the 'adshex' column using an inner join\n",
    "\n",
    "#look at a few rows of the new data table you created"
   ]
  },
  {
   "cell_type": "markdown",
   "metadata": {},
   "source": [
    "####  Factorize data\n",
    "\n",
    "Pandas has a [function to factorize data](https://pandas.pydata.org/pandas-docs/stable/reference/api/pandas.factorize.html). This method is useful for obtaining a numeric representation of an array when all that matters is identifying distinct values. \n",
    "\n",
    "You'll use this on the plane types in our labeled dataset to create a new column and then export the prepared dataset to a .csv file.  "
   ]
  },
  {
   "cell_type": "code",
   "execution_count": null,
   "metadata": {},
   "outputs": [],
   "source": [
    "#prints out the number of unique plane types\n",
    "plane_types = planes_labeled['type'].nunique()\n",
    "print('There are ' + str(plane_types) + ' unique plane types in this dataset')"
   ]
  },
  {
   "cell_type": "code",
   "execution_count": null,
   "metadata": {},
   "outputs": [],
   "source": [
    "#use the factorize method to create a column called 'type_factorized'\n"
   ]
  },
  {
   "cell_type": "code",
   "execution_count": null,
   "metadata": {},
   "outputs": [],
   "source": [
    "#display the first 15 rows of the type column and newly created type_factorized column "
   ]
  },
  {
   "cell_type": "code",
   "execution_count": null,
   "metadata": {},
   "outputs": [],
   "source": [
    "#export data to csv\n",
    "planes_labeled.to_csv(\"../data/spyplane-data/planes_labeled.csv\", index = False)"
   ]
  }
 ],
 "metadata": {
  "kernelspec": {
   "display_name": "Python 3 (ipykernel)",
   "language": "python",
   "name": "python3"
  },
  "language_info": {
   "codemirror_mode": {
    "name": "ipython",
    "version": 3
   },
   "file_extension": ".py",
   "mimetype": "text/x-python",
   "name": "python",
   "nbconvert_exporter": "python",
   "pygments_lexer": "ipython3",
   "version": "3.11.4"
  }
 },
 "nbformat": 4,
 "nbformat_minor": 4
}

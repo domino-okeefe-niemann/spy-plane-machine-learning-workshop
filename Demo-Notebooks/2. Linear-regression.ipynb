{
 "cells": [
  {
   "cell_type": "markdown",
   "metadata": {},
   "source": [
    "# Linear Regression Example\n",
    "\n",
    "This notebook uses a sampling of data taken from the Buzzfeed news Github repository on the analysis of surveillance planes found [here](https://github.com/BuzzFeedNews/2016-04-federal-surveillance-planes)"
   ]
  },
  {
   "cell_type": "code",
   "execution_count": null,
   "metadata": {},
   "outputs": [],
   "source": [
    "#get the packages we need\n",
    "import pandas as pd\n",
    "import numpy as np\n",
    "import matplotlib.pyplot as plt\n",
    "from sklearn.linear_model import LinearRegression\n",
    "from sklearn.metrics import mean_squared_error, r2_score"
   ]
  },
  {
   "cell_type": "code",
   "execution_count": null,
   "metadata": {},
   "outputs": [],
   "source": [
    "#read in data\n",
    "data = pd.read_csv('../data/demo-notebooks-data/simple_example.csv')"
   ]
  },
  {
   "cell_type": "code",
   "execution_count": null,
   "metadata": {},
   "outputs": [],
   "source": [
    "#look at first few rows\n",
    "data.head()"
   ]
  },
  {
   "cell_type": "code",
   "execution_count": null,
   "metadata": {},
   "outputs": [],
   "source": [
    "#plot data\n",
    "fig, ax = plt.subplots()\n",
    "ax.scatter(data['speed (x)'],data['altitude (y)'], c = 'blue')\n",
    "\n",
    "#format plot titles\n",
    "ax.set_title('Altitude vs Speed')\n",
    "ax.set_xlabel('Speed (knots)')\n",
    "ax.set_ylabel('Altitude (feet)')\n",
    "\n",
    "plt.show()"
   ]
  },
  {
   "cell_type": "markdown",
   "metadata": {},
   "source": [
    "# Our calculated predictions"
   ]
  },
  {
   "cell_type": "code",
   "execution_count": null,
   "metadata": {},
   "outputs": [],
   "source": [
    "#create line from our calculated model\n",
    "x = data['speed (x)']\n",
    "y_pred = [(num*40) + 3000 for num in data['speed (x)']]\n",
    "\n",
    "#plot data points and line\n",
    "fig, ax = plt.subplots(figsize=(15, 10))\n",
    "ax.plot(x, y_pred, c = 'red')\n",
    "ax.scatter(data['speed (x)'],data['altitude (y)'], c = 'blue')\n",
    "\n",
    "#format plot titles\n",
    "ax.set_title('Altitude vs Speed')\n",
    "ax.set_xlabel('Speed (knots)')\n",
    "ax.set_ylabel('Altitude (feet)')\n",
    "\n",
    "plt.show()"
   ]
  },
  {
   "cell_type": "code",
   "execution_count": null,
   "metadata": {},
   "outputs": [],
   "source": [
    "#create table of predictions\n",
    "data['our_predicted_y'] = y_pred\n",
    "data.head()"
   ]
  },
  {
   "cell_type": "code",
   "execution_count": null,
   "metadata": {},
   "outputs": [],
   "source": [
    "#plot data points, line, and error measurements\n",
    "fig, ax = plt.subplots(figsize=(15, 10))\n",
    "ax.plot(data['speed (x)'], data['our_predicted_y'], c = 'red')\n",
    "ax.scatter(data['speed (x)'],data['altitude (y)'], c = 'blue')\n",
    "\n",
    "#format plot titles\n",
    "ax.set_title('Altitude vs Speed')\n",
    "ax.set_xlabel('Speed (knots)')\n",
    "ax.set_ylabel('Altitude (feet)')\n",
    "\n",
    "for row in data.index:\n",
    "    y_true = data.loc[row, 'altitude (y)']\n",
    "    y_pred = data.loc[row, 'our_predicted_y']\n",
    "    \n",
    "    if y_true > y_pred:\n",
    "        y_min = y_pred\n",
    "        y_max = y_true\n",
    "    else:\n",
    "        y_min = y_true\n",
    "        y_max = y_pred\n",
    "        \n",
    "    ax.vlines(x=data.loc[row, 'speed (x)'], ymin=y_min, ymax=y_max, colors='green', ls=':', lw=2, label='vline_single - partial height')\n",
    "\n",
    "plt.show()"
   ]
  },
  {
   "cell_type": "code",
   "execution_count": null,
   "metadata": {},
   "outputs": [],
   "source": [
    "#print evaluations metrics\n",
    "our_MSE = round(np.sqrt(mean_squared_error(data['altitude (y)'], data['our_predicted_y'])), 0)\n",
    "our_r2 = round(r2_score(data['altitude (y)'], data['our_predicted_y']),2)\n",
    "print('The MSE for the model calculations is ' + str(our_MSE) + ' and R_squared is ' + str(our_r2))"
   ]
  },
  {
   "cell_type": "markdown",
   "metadata": {},
   "source": [
    "\n",
    "# Linear Regression Model"
   ]
  },
  {
   "cell_type": "code",
   "execution_count": null,
   "metadata": {},
   "outputs": [],
   "source": [
    "#create the X and y data from our dataset and fit a linear regression model\n",
    "X = np.array(data['speed (x)']).reshape(-1, 1)\n",
    "y = np.array(data['altitude (y)']).reshape(-1, 1)\n",
    "model = LinearRegression()\n",
    "model.fit(X,y)"
   ]
  },
  {
   "cell_type": "code",
   "execution_count": null,
   "metadata": {},
   "outputs": [],
   "source": [
    "#print the slope and intercept that were calculated by the model\n",
    "slope = round(float(model.coef_), 1)\n",
    "intercept = int(model.intercept_)\n",
    "\n",
    "print('The slope of the linear regression model is ' + str(slope) + \n",
    "      ' and the intercept is ' + str(intercept))"
   ]
  },
  {
   "cell_type": "code",
   "execution_count": null,
   "metadata": {},
   "outputs": [],
   "source": [
    "#create a column of the models predictions\n",
    "data['model_predicted_y'] = data['speed (x)'].apply(lambda x: (slope * x) + intercept)\n",
    "\n",
    "#create line from calculated model\n",
    "x = np.linspace(start=0, stop=193, num=100)\n",
    "y = [(num*slope) + intercept for num in x]\n",
    "\n",
    "#plot data points and new line\n",
    "fig, ax = plt.subplots(figsize=(15, 10))\n",
    "ax.plot(x, y, c = 'red')\n",
    "ax.scatter(data['speed (x)'],data['altitude (y)'], c = 'blue')\n",
    "\n",
    "#format plot titles\n",
    "ax.set_title('Altitude vs Speed')\n",
    "ax.set_xlabel('Speed (knots)')\n",
    "ax.set_ylabel('Altitude (feet)')\n",
    "\n",
    "for row in data.index:\n",
    "    y_true = data.loc[row, 'altitude (y)']\n",
    "    y_pred = data.loc[row, 'model_predicted_y']\n",
    "    \n",
    "    if y_true > y_pred:\n",
    "        y_min = y_pred\n",
    "        y_max = y_true\n",
    "    else:\n",
    "        y_min = y_true\n",
    "        y_max = y_pred\n",
    "        \n",
    "    ax.vlines(x=data.loc[row, 'speed (x)'], ymin=y_min, ymax=y_max, colors='green', ls=':', lw=2, label='vline_single - partial height')\n",
    "\n",
    "plt.show()"
   ]
  },
  {
   "cell_type": "code",
   "execution_count": null,
   "metadata": {},
   "outputs": [],
   "source": [
    "#look at our predicted values\n",
    "data.head()"
   ]
  },
  {
   "cell_type": "code",
   "execution_count": null,
   "metadata": {},
   "outputs": [],
   "source": [
    "#print evaluations metrics\n",
    "model_MSE = round(mean_squared_error(y, data['model_predicted_y']),0)\n",
    "model_r2 = round(r2_score(y, data['model_predicted_y']),2)\n",
    "print('The MSE for the model calculations is ' + str(model_MSE) + ' and R_squared is ' + str(model_r2))"
   ]
  }
 ],
 "metadata": {
  "kernelspec": {
   "display_name": "Python 3",
   "language": "python",
   "name": "python3"
  },
  "language_info": {
   "codemirror_mode": {
    "name": "ipython",
    "version": 3
   },
   "file_extension": ".py",
   "mimetype": "text/x-python",
   "name": "python",
   "nbconvert_exporter": "python",
   "pygments_lexer": "ipython3",
   "version": "3.9.15"
  }
 },
 "nbformat": 4,
 "nbformat_minor": 4
}

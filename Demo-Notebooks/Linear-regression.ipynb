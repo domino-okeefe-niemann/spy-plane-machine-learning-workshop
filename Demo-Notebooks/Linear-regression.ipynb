{
 "cells": [
  {
   "cell_type": "markdown",
   "metadata": {},
   "source": [
    "# Linear Regression Example\n",
    "\n",
    "This notebook uses a sampling of data taken from the Buzzfeed news Github repository on the analysis of surveillance planes found [here](https://github.com/BuzzFeedNews/2016-04-federal-surveillance-planes)"
   ]
  },
  {
   "cell_type": "code",
   "execution_count": 1,
   "metadata": {},
   "outputs": [],
   "source": [
    "#get the packages we need\n",
    "import pandas as pd\n",
    "import numpy as np\n",
    "import matplotlib.pyplot as plt\n",
    "from sklearn.linear_model import LinearRegression\n",
    "from sklearn.metrics import mean_squared_error, r2_score"
   ]
  },
  {
   "cell_type": "code",
   "execution_count": 2,
   "metadata": {},
   "outputs": [],
   "source": [
    "#read in data\n",
    "data = pd.read_csv('/mnt/data/simple_example.csv')"
   ]
  },
  {
   "cell_type": "code",
   "execution_count": 3,
   "metadata": {},
   "outputs": [
    {
     "data": {
      "text/html": [
       "<div>\n",
       "<style scoped>\n",
       "    .dataframe tbody tr th:only-of-type {\n",
       "        vertical-align: middle;\n",
       "    }\n",
       "\n",
       "    .dataframe tbody tr th {\n",
       "        vertical-align: top;\n",
       "    }\n",
       "\n",
       "    .dataframe thead th {\n",
       "        text-align: right;\n",
       "    }\n",
       "</style>\n",
       "<table border=\"1\" class=\"dataframe\">\n",
       "  <thead>\n",
       "    <tr style=\"text-align: right;\">\n",
       "      <th></th>\n",
       "      <th>speed (x)</th>\n",
       "      <th>altitude (y)</th>\n",
       "    </tr>\n",
       "  </thead>\n",
       "  <tbody>\n",
       "    <tr>\n",
       "      <th>0</th>\n",
       "      <td>0</td>\n",
       "      <td>3600</td>\n",
       "    </tr>\n",
       "    <tr>\n",
       "      <th>1</th>\n",
       "      <td>11</td>\n",
       "      <td>7450</td>\n",
       "    </tr>\n",
       "    <tr>\n",
       "      <th>2</th>\n",
       "      <td>28</td>\n",
       "      <td>4500</td>\n",
       "    </tr>\n",
       "    <tr>\n",
       "      <th>3</th>\n",
       "      <td>43</td>\n",
       "      <td>5900</td>\n",
       "    </tr>\n",
       "    <tr>\n",
       "      <th>4</th>\n",
       "      <td>47</td>\n",
       "      <td>4700</td>\n",
       "    </tr>\n",
       "  </tbody>\n",
       "</table>\n",
       "</div>"
      ],
      "text/plain": [
       "   speed (x)  altitude (y)\n",
       "0          0          3600\n",
       "1         11          7450\n",
       "2         28          4500\n",
       "3         43          5900\n",
       "4         47          4700"
      ]
     },
     "execution_count": 3,
     "metadata": {},
     "output_type": "execute_result"
    }
   ],
   "source": [
    "#look at first few rows\n",
    "data.head()"
   ]
  },
  {
   "cell_type": "code",
   "execution_count": 4,
   "metadata": {},
   "outputs": [
    {
     "data": {
      "image/png": "[encoded data removed]",
      "text/plain": [
       "<Figure size 432x288 with 1 Axes>"
      ]
     },
     "metadata": {
      "needs_background": "light"
     },
     "output_type": "display_data"
    }
   ],
   "source": [
    "#plot data\n",
    "fig, ax = plt.subplots()\n",
    "ax.scatter(data['speed (x)'],data['altitude (y)'], c = 'blue')\n",
    "\n",
    "#format plot titles\n",
    "ax.set_title('Altitude vs Speed')\n",
    "ax.set_xlabel('Speed (knots)')\n",
    "ax.set_ylabel('Altitude (feet)')\n",
    "\n",
    "plt.show()"
   ]
  },
  {
   "cell_type": "markdown",
   "metadata": {},
   "source": [
    "# Our calculated predictions"
   ]
  },
  {
   "cell_type": "code",
   "execution_count": 5,
   "metadata": {},
   "outputs": [
    {
     "data": {
      "image/png": "[encoded data removed]",
      "text/plain": [
       "<Figure size 432x288 with 1 Axes>"
      ]
     },
     "metadata": {
      "needs_background": "light"
     },
     "output_type": "display_data"
    }
   ],
   "source": [
    "#create line from our calculated model\n",
    "x = np.linspace(start=0, stop=193, num=100)\n",
    "y = [(num*76) + 3600 for num in x]\n",
    "\n",
    "#plot data points and line\n",
    "fig, ax = plt.subplots()\n",
    "ax.plot(x, y, c = 'red')\n",
    "ax.scatter(data['speed (x)'],data['altitude (y)'], c = 'blue')\n",
    "\n",
    "#format plot titles\n",
    "ax.set_title('Altitude vs Speed')\n",
    "ax.set_xlabel('Speed (knots)')\n",
    "ax.set_ylabel('Altitude (feet)')\n",
    "\n",
    "plt.show()"
   ]
  },
  {
   "cell_type": "code",
   "execution_count": 6,
   "metadata": {},
   "outputs": [
    {
     "data": {
      "text/html": [
       "<div>\n",
       "<style scoped>\n",
       "    .dataframe tbody tr th:only-of-type {\n",
       "        vertical-align: middle;\n",
       "    }\n",
       "\n",
       "    .dataframe tbody tr th {\n",
       "        vertical-align: top;\n",
       "    }\n",
       "\n",
       "    .dataframe thead th {\n",
       "        text-align: right;\n",
       "    }\n",
       "</style>\n",
       "<table border=\"1\" class=\"dataframe\">\n",
       "  <thead>\n",
       "    <tr style=\"text-align: right;\">\n",
       "      <th></th>\n",
       "      <th>speed (x)</th>\n",
       "      <th>altitude (y)</th>\n",
       "      <th>our_predicted_y</th>\n",
       "    </tr>\n",
       "  </thead>\n",
       "  <tbody>\n",
       "    <tr>\n",
       "      <th>0</th>\n",
       "      <td>0</td>\n",
       "      <td>3600</td>\n",
       "      <td>3600</td>\n",
       "    </tr>\n",
       "    <tr>\n",
       "      <th>1</th>\n",
       "      <td>11</td>\n",
       "      <td>7450</td>\n",
       "      <td>4436</td>\n",
       "    </tr>\n",
       "    <tr>\n",
       "      <th>2</th>\n",
       "      <td>28</td>\n",
       "      <td>4500</td>\n",
       "      <td>5728</td>\n",
       "    </tr>\n",
       "    <tr>\n",
       "      <th>3</th>\n",
       "      <td>43</td>\n",
       "      <td>5900</td>\n",
       "      <td>6868</td>\n",
       "    </tr>\n",
       "    <tr>\n",
       "      <th>4</th>\n",
       "      <td>47</td>\n",
       "      <td>4700</td>\n",
       "      <td>7172</td>\n",
       "    </tr>\n",
       "  </tbody>\n",
       "</table>\n",
       "</div>"
      ],
      "text/plain": [
       "   speed (x)  altitude (y)  our_predicted_y\n",
       "0          0          3600             3600\n",
       "1         11          7450             4436\n",
       "2         28          4500             5728\n",
       "3         43          5900             6868\n",
       "4         47          4700             7172"
      ]
     },
     "execution_count": 6,
     "metadata": {},
     "output_type": "execute_result"
    }
   ],
   "source": [
    "#create table of predictions\n",
    "y_pred = [(num*76) + 3600 for num in data['speed (x)']]\n",
    "data['our_predicted_y'] = y_pred\n",
    "data.head()"
   ]
  },
  {
   "cell_type": "code",
   "execution_count": 7,
   "metadata": {},
   "outputs": [
    {
     "name": "stdout",
     "output_type": "stream",
     "text": [
      "The MSE for the model calculations is 7390299.0 and R_squared is 0.6\n"
     ]
    }
   ],
   "source": [
    "#print evaluations metrics\n",
    "our_MSE = round(mean_squared_error(y, y_pred),0)\n",
    "our_r2 = round(r2_score(y, y_pred),2)\n",
    "print('The MSE for the model calculations is ' + str(our_MSE) + ' and R_squared is ' + str(our_r2))"
   ]
  },
  {
   "cell_type": "markdown",
   "metadata": {},
   "source": [
    "\n",
    "# Linear Regression Model"
   ]
  },
  {
   "cell_type": "code",
   "execution_count": 8,
   "metadata": {},
   "outputs": [],
   "source": [
    "#create the X and y data from our dataset and fit a linear regression model\n",
    "X = np.array(data['speed (x)']).reshape(-1, 1)\n",
    "y = np.array(data['altitude (y)']).reshape(-1, 1)\n",
    "model = LinearRegression().fit(X,y)"
   ]
  },
  {
   "cell_type": "code",
   "execution_count": 9,
   "metadata": {},
   "outputs": [
    {
     "name": "stdout",
     "output_type": "stream",
     "text": [
      "The slope of the linear regression model is 29.8 and the intercept is 4092\n"
     ]
    }
   ],
   "source": [
    "#print the slope and intercept that were calculated by the model\n",
    "slope = round(float(model.coef_), 1)\n",
    "intercept = int(model.intercept_)\n",
    "\n",
    "print('The slope of the linear regression model is ' + str(slope) + \n",
    "      ' and the intercept is ' + str(intercept))"
   ]
  },
  {
   "cell_type": "code",
   "execution_count": 10,
   "metadata": {},
   "outputs": [
    {
     "data": {
      "image/png": "[encoded data removed]",
      "text/plain": [
       "<Figure size 432x288 with 1 Axes>"
      ]
     },
     "metadata": {
      "needs_background": "light"
     },
     "output_type": "display_data"
    }
   ],
   "source": [
    "#create a column of the models predictions\n",
    "data['model_predicted_y'] = data['speed (x)'].apply(lambda x: (slope * x) + intercept)\n",
    "\n",
    "#create line from calculated model\n",
    "x = np.linspace(start=0, stop=193, num=100)\n",
    "y = [(num*slope) + intercept for num in x]\n",
    "\n",
    "#plot data points and new line\n",
    "fig, ax = plt.subplots()\n",
    "ax.plot(x, y, c = 'red')\n",
    "ax.scatter(data['speed (x)'],data['altitude (y)'], c = 'blue')\n",
    "\n",
    "#format plot titles\n",
    "ax.set_title('Altitude vs Speed')\n",
    "ax.set_xlabel('Speed (knots)')\n",
    "ax.set_ylabel('Altitude (feet)')\n",
    "\n",
    "plt.show()"
   ]
  },
  {
   "cell_type": "code",
   "execution_count": 11,
   "metadata": {},
   "outputs": [
    {
     "data": {
      "text/html": [
       "<div>\n",
       "<style scoped>\n",
       "    .dataframe tbody tr th:only-of-type {\n",
       "        vertical-align: middle;\n",
       "    }\n",
       "\n",
       "    .dataframe tbody tr th {\n",
       "        vertical-align: top;\n",
       "    }\n",
       "\n",
       "    .dataframe thead th {\n",
       "        text-align: right;\n",
       "    }\n",
       "</style>\n",
       "<table border=\"1\" class=\"dataframe\">\n",
       "  <thead>\n",
       "    <tr style=\"text-align: right;\">\n",
       "      <th></th>\n",
       "      <th>speed (x)</th>\n",
       "      <th>altitude (y)</th>\n",
       "      <th>our_predicted_y</th>\n",
       "      <th>model_predicted_y</th>\n",
       "    </tr>\n",
       "  </thead>\n",
       "  <tbody>\n",
       "    <tr>\n",
       "      <th>0</th>\n",
       "      <td>0</td>\n",
       "      <td>3600</td>\n",
       "      <td>3600</td>\n",
       "      <td>4092.0</td>\n",
       "    </tr>\n",
       "    <tr>\n",
       "      <th>1</th>\n",
       "      <td>11</td>\n",
       "      <td>7450</td>\n",
       "      <td>4436</td>\n",
       "      <td>4419.8</td>\n",
       "    </tr>\n",
       "    <tr>\n",
       "      <th>2</th>\n",
       "      <td>28</td>\n",
       "      <td>4500</td>\n",
       "      <td>5728</td>\n",
       "      <td>4926.4</td>\n",
       "    </tr>\n",
       "    <tr>\n",
       "      <th>3</th>\n",
       "      <td>43</td>\n",
       "      <td>5900</td>\n",
       "      <td>6868</td>\n",
       "      <td>5373.4</td>\n",
       "    </tr>\n",
       "    <tr>\n",
       "      <th>4</th>\n",
       "      <td>47</td>\n",
       "      <td>4700</td>\n",
       "      <td>7172</td>\n",
       "      <td>5492.6</td>\n",
       "    </tr>\n",
       "  </tbody>\n",
       "</table>\n",
       "</div>"
      ],
      "text/plain": [
       "   speed (x)  altitude (y)  our_predicted_y  model_predicted_y\n",
       "0          0          3600             3600             4092.0\n",
       "1         11          7450             4436             4419.8\n",
       "2         28          4500             5728             4926.4\n",
       "3         43          5900             6868             5373.4\n",
       "4         47          4700             7172             5492.6"
      ]
     },
     "execution_count": 11,
     "metadata": {},
     "output_type": "execute_result"
    }
   ],
   "source": [
    "#look at our predicted values\n",
    "data.head()"
   ]
  },
  {
   "cell_type": "code",
   "execution_count": 12,
   "metadata": {},
   "outputs": [
    {
     "name": "stdout",
     "output_type": "stream",
     "text": [
      "The MSE for the model calculations is 1136233.0 and R_squared is 0.6\n"
     ]
    }
   ],
   "source": [
    "#print evaluations metrics\n",
    "model_MSE = round(mean_squared_error(y, data['model_predicted_y']),0)\n",
    "model_r2 = round(r2_score(y, data['model_predicted_y']),2)\n",
    "print('The MSE for the model calculations is ' + str(model_MSE) + ' and R_squared is ' + str(model_r2))"
   ]
  }
 ],
 "metadata": {
  "kernelspec": {
   "display_name": "Python 3",
   "language": "python",
   "name": "python3"
  },
  "language_info": {
   "codemirror_mode": {
    "name": "ipython",
    "version": 3
   },
   "file_extension": ".py",
   "mimetype": "text/x-python",
   "name": "python",
   "nbconvert_exporter": "python",
   "pygments_lexer": "ipython3",
   "version": "3.6.7"
  }
 },
 "nbformat": 4,
 "nbformat_minor": 2
}
